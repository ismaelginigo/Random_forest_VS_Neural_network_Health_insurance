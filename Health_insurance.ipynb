{
 "cells": [
  {
   "cell_type": "code",
   "execution_count": 1,
   "metadata": {},
   "outputs": [],
   "source": [
    "import pandas as pd\n",
    "import numpy as np\n",
    "import matplotlib.pyplot as plt\n",
    "import seaborn as sns\n",
    "import chart_studio.plotly as py\n",
    "import plotly.graph_objects as go\n",
    "from sklearn.preprocessing import StandardScaler"
   ]
  },
  {
   "cell_type": "raw",
   "metadata": {},
   "source": [
    "                            Random forest VS Neural network for classification on Health insurance\n",
    "\n",
    "I took both health insurance datasets from kaggle to compare the prediction between Random Forest and a neural network made by myself to practice with tensorflow library and compare the results, because I've used tensorflow basically with image recognition and a  I want to know the power of these neural networks on classidified another thing different than a photo . My apologies in advance if there is any mistake in my English (not my first language).\n",
    "\n",
    "These datasets are mixed with respect of the data, categorical and numerical columns. Basically the goal is to obtain a prediction of a future car insurance client based on the regular data that a company would obtain from a universe of clients, age, license, region, car's age, fees, etc.\n"
   ]
  },
  {
   "cell_type": "markdown",
   "metadata": {},
   "source": [
    "## Train Dataset"
   ]
  },
  {
   "cell_type": "code",
   "execution_count": 2,
   "metadata": {},
   "outputs": [
    {
     "data": {
      "text/html": [
       "<div>\n",
       "<style scoped>\n",
       "    .dataframe tbody tr th:only-of-type {\n",
       "        vertical-align: middle;\n",
       "    }\n",
       "\n",
       "    .dataframe tbody tr th {\n",
       "        vertical-align: top;\n",
       "    }\n",
       "\n",
       "    .dataframe thead th {\n",
       "        text-align: right;\n",
       "    }\n",
       "</style>\n",
       "<table border=\"1\" class=\"dataframe\">\n",
       "  <thead>\n",
       "    <tr style=\"text-align: right;\">\n",
       "      <th></th>\n",
       "      <th>id</th>\n",
       "      <th>Gender</th>\n",
       "      <th>Age</th>\n",
       "      <th>Driving_License</th>\n",
       "      <th>Region_Code</th>\n",
       "      <th>Previously_Insured</th>\n",
       "      <th>Vehicle_Age</th>\n",
       "      <th>Vehicle_Damage</th>\n",
       "      <th>Annual_Premium</th>\n",
       "      <th>Policy_Sales_Channel</th>\n",
       "      <th>Vintage</th>\n",
       "      <th>Response</th>\n",
       "    </tr>\n",
       "  </thead>\n",
       "  <tbody>\n",
       "    <tr>\n",
       "      <th>0</th>\n",
       "      <td>1</td>\n",
       "      <td>Male</td>\n",
       "      <td>44</td>\n",
       "      <td>1</td>\n",
       "      <td>28.0</td>\n",
       "      <td>0</td>\n",
       "      <td>&gt; 2 Years</td>\n",
       "      <td>Yes</td>\n",
       "      <td>40454.0</td>\n",
       "      <td>26.0</td>\n",
       "      <td>217</td>\n",
       "      <td>1</td>\n",
       "    </tr>\n",
       "    <tr>\n",
       "      <th>1</th>\n",
       "      <td>2</td>\n",
       "      <td>Male</td>\n",
       "      <td>76</td>\n",
       "      <td>1</td>\n",
       "      <td>3.0</td>\n",
       "      <td>0</td>\n",
       "      <td>1-2 Year</td>\n",
       "      <td>No</td>\n",
       "      <td>33536.0</td>\n",
       "      <td>26.0</td>\n",
       "      <td>183</td>\n",
       "      <td>0</td>\n",
       "    </tr>\n",
       "    <tr>\n",
       "      <th>2</th>\n",
       "      <td>3</td>\n",
       "      <td>Male</td>\n",
       "      <td>47</td>\n",
       "      <td>1</td>\n",
       "      <td>28.0</td>\n",
       "      <td>0</td>\n",
       "      <td>&gt; 2 Years</td>\n",
       "      <td>Yes</td>\n",
       "      <td>38294.0</td>\n",
       "      <td>26.0</td>\n",
       "      <td>27</td>\n",
       "      <td>1</td>\n",
       "    </tr>\n",
       "    <tr>\n",
       "      <th>3</th>\n",
       "      <td>4</td>\n",
       "      <td>Male</td>\n",
       "      <td>21</td>\n",
       "      <td>1</td>\n",
       "      <td>11.0</td>\n",
       "      <td>1</td>\n",
       "      <td>&lt; 1 Year</td>\n",
       "      <td>No</td>\n",
       "      <td>28619.0</td>\n",
       "      <td>152.0</td>\n",
       "      <td>203</td>\n",
       "      <td>0</td>\n",
       "    </tr>\n",
       "    <tr>\n",
       "      <th>4</th>\n",
       "      <td>5</td>\n",
       "      <td>Female</td>\n",
       "      <td>29</td>\n",
       "      <td>1</td>\n",
       "      <td>41.0</td>\n",
       "      <td>1</td>\n",
       "      <td>&lt; 1 Year</td>\n",
       "      <td>No</td>\n",
       "      <td>27496.0</td>\n",
       "      <td>152.0</td>\n",
       "      <td>39</td>\n",
       "      <td>0</td>\n",
       "    </tr>\n",
       "  </tbody>\n",
       "</table>\n",
       "</div>"
      ],
      "text/plain": [
       "   id  Gender  Age  Driving_License  Region_Code  Previously_Insured  \\\n",
       "0   1    Male   44                1         28.0                   0   \n",
       "1   2    Male   76                1          3.0                   0   \n",
       "2   3    Male   47                1         28.0                   0   \n",
       "3   4    Male   21                1         11.0                   1   \n",
       "4   5  Female   29                1         41.0                   1   \n",
       "\n",
       "  Vehicle_Age Vehicle_Damage  Annual_Premium  Policy_Sales_Channel  Vintage  \\\n",
       "0   > 2 Years            Yes         40454.0                  26.0      217   \n",
       "1    1-2 Year             No         33536.0                  26.0      183   \n",
       "2   > 2 Years            Yes         38294.0                  26.0       27   \n",
       "3    < 1 Year             No         28619.0                 152.0      203   \n",
       "4    < 1 Year             No         27496.0                 152.0       39   \n",
       "\n",
       "   Response  \n",
       "0         1  \n",
       "1         0  \n",
       "2         1  \n",
       "3         0  \n",
       "4         0  "
      ]
     },
     "execution_count": 2,
     "metadata": {},
     "output_type": "execute_result"
    }
   ],
   "source": [
    "df=pd.read_csv('/Users/ismaelgarciainigo/Desktop/NEOLAND BOOTCAMP/Health_insurance/train.csv')\n",
    "df.head()"
   ]
  },
  {
   "cell_type": "raw",
   "metadata": {},
   "source": [
    "I use this funtion for EDA and what I see it is that the Dataset is completely clean"
   ]
  },
  {
   "cell_type": "code",
   "execution_count": 3,
   "metadata": {},
   "outputs": [],
   "source": [
    "def eda(df): \n",
    "    eda_df = {}\n",
    "    eda_df['null_sum'] = df.isnull().sum()\n",
    "    eda_df['null_pct'] = df.isnull().mean()\n",
    "    eda_df['dtypes'] = df.dtypes\n",
    "    eda_df['count'] = df.count()\n",
    "    eda_df['mean'] = df.mean()\n",
    "    eda_df['median'] = df.median()\n",
    "    eda_df['min'] = df.min()\n",
    "    eda_df['max'] = df.max()\n",
    "    \n",
    "    return pd.DataFrame(eda_df)"
   ]
  },
  {
   "cell_type": "code",
   "execution_count": 4,
   "metadata": {},
   "outputs": [
    {
     "data": {
      "text/html": [
       "<div>\n",
       "<style scoped>\n",
       "    .dataframe tbody tr th:only-of-type {\n",
       "        vertical-align: middle;\n",
       "    }\n",
       "\n",
       "    .dataframe tbody tr th {\n",
       "        vertical-align: top;\n",
       "    }\n",
       "\n",
       "    .dataframe thead th {\n",
       "        text-align: right;\n",
       "    }\n",
       "</style>\n",
       "<table border=\"1\" class=\"dataframe\">\n",
       "  <thead>\n",
       "    <tr style=\"text-align: right;\">\n",
       "      <th></th>\n",
       "      <th>null_sum</th>\n",
       "      <th>null_pct</th>\n",
       "      <th>dtypes</th>\n",
       "      <th>count</th>\n",
       "      <th>mean</th>\n",
       "      <th>median</th>\n",
       "      <th>min</th>\n",
       "      <th>max</th>\n",
       "    </tr>\n",
       "  </thead>\n",
       "  <tbody>\n",
       "    <tr>\n",
       "      <th>Age</th>\n",
       "      <td>0</td>\n",
       "      <td>0.0</td>\n",
       "      <td>int64</td>\n",
       "      <td>381109</td>\n",
       "      <td>38.822584</td>\n",
       "      <td>36.0</td>\n",
       "      <td>20</td>\n",
       "      <td>85</td>\n",
       "    </tr>\n",
       "    <tr>\n",
       "      <th>Annual_Premium</th>\n",
       "      <td>0</td>\n",
       "      <td>0.0</td>\n",
       "      <td>float64</td>\n",
       "      <td>381109</td>\n",
       "      <td>30564.389581</td>\n",
       "      <td>31669.0</td>\n",
       "      <td>2630</td>\n",
       "      <td>540165</td>\n",
       "    </tr>\n",
       "    <tr>\n",
       "      <th>Driving_License</th>\n",
       "      <td>0</td>\n",
       "      <td>0.0</td>\n",
       "      <td>int64</td>\n",
       "      <td>381109</td>\n",
       "      <td>0.997869</td>\n",
       "      <td>1.0</td>\n",
       "      <td>0</td>\n",
       "      <td>1</td>\n",
       "    </tr>\n",
       "    <tr>\n",
       "      <th>Gender</th>\n",
       "      <td>0</td>\n",
       "      <td>0.0</td>\n",
       "      <td>object</td>\n",
       "      <td>381109</td>\n",
       "      <td>NaN</td>\n",
       "      <td>NaN</td>\n",
       "      <td>Female</td>\n",
       "      <td>Male</td>\n",
       "    </tr>\n",
       "    <tr>\n",
       "      <th>Policy_Sales_Channel</th>\n",
       "      <td>0</td>\n",
       "      <td>0.0</td>\n",
       "      <td>float64</td>\n",
       "      <td>381109</td>\n",
       "      <td>112.034295</td>\n",
       "      <td>133.0</td>\n",
       "      <td>1</td>\n",
       "      <td>163</td>\n",
       "    </tr>\n",
       "    <tr>\n",
       "      <th>Previously_Insured</th>\n",
       "      <td>0</td>\n",
       "      <td>0.0</td>\n",
       "      <td>int64</td>\n",
       "      <td>381109</td>\n",
       "      <td>0.458210</td>\n",
       "      <td>0.0</td>\n",
       "      <td>0</td>\n",
       "      <td>1</td>\n",
       "    </tr>\n",
       "    <tr>\n",
       "      <th>Region_Code</th>\n",
       "      <td>0</td>\n",
       "      <td>0.0</td>\n",
       "      <td>float64</td>\n",
       "      <td>381109</td>\n",
       "      <td>26.388807</td>\n",
       "      <td>28.0</td>\n",
       "      <td>0</td>\n",
       "      <td>52</td>\n",
       "    </tr>\n",
       "    <tr>\n",
       "      <th>Response</th>\n",
       "      <td>0</td>\n",
       "      <td>0.0</td>\n",
       "      <td>int64</td>\n",
       "      <td>381109</td>\n",
       "      <td>0.122563</td>\n",
       "      <td>0.0</td>\n",
       "      <td>0</td>\n",
       "      <td>1</td>\n",
       "    </tr>\n",
       "    <tr>\n",
       "      <th>Vehicle_Age</th>\n",
       "      <td>0</td>\n",
       "      <td>0.0</td>\n",
       "      <td>object</td>\n",
       "      <td>381109</td>\n",
       "      <td>NaN</td>\n",
       "      <td>NaN</td>\n",
       "      <td>1-2 Year</td>\n",
       "      <td>&gt; 2 Years</td>\n",
       "    </tr>\n",
       "    <tr>\n",
       "      <th>Vehicle_Damage</th>\n",
       "      <td>0</td>\n",
       "      <td>0.0</td>\n",
       "      <td>object</td>\n",
       "      <td>381109</td>\n",
       "      <td>NaN</td>\n",
       "      <td>NaN</td>\n",
       "      <td>No</td>\n",
       "      <td>Yes</td>\n",
       "    </tr>\n",
       "    <tr>\n",
       "      <th>Vintage</th>\n",
       "      <td>0</td>\n",
       "      <td>0.0</td>\n",
       "      <td>int64</td>\n",
       "      <td>381109</td>\n",
       "      <td>154.347397</td>\n",
       "      <td>154.0</td>\n",
       "      <td>10</td>\n",
       "      <td>299</td>\n",
       "    </tr>\n",
       "    <tr>\n",
       "      <th>id</th>\n",
       "      <td>0</td>\n",
       "      <td>0.0</td>\n",
       "      <td>int64</td>\n",
       "      <td>381109</td>\n",
       "      <td>190555.000000</td>\n",
       "      <td>190555.0</td>\n",
       "      <td>1</td>\n",
       "      <td>381109</td>\n",
       "    </tr>\n",
       "  </tbody>\n",
       "</table>\n",
       "</div>"
      ],
      "text/plain": [
       "                      null_sum  null_pct   dtypes   count           mean  \\\n",
       "Age                          0       0.0    int64  381109      38.822584   \n",
       "Annual_Premium               0       0.0  float64  381109   30564.389581   \n",
       "Driving_License              0       0.0    int64  381109       0.997869   \n",
       "Gender                       0       0.0   object  381109            NaN   \n",
       "Policy_Sales_Channel         0       0.0  float64  381109     112.034295   \n",
       "Previously_Insured           0       0.0    int64  381109       0.458210   \n",
       "Region_Code                  0       0.0  float64  381109      26.388807   \n",
       "Response                     0       0.0    int64  381109       0.122563   \n",
       "Vehicle_Age                  0       0.0   object  381109            NaN   \n",
       "Vehicle_Damage               0       0.0   object  381109            NaN   \n",
       "Vintage                      0       0.0    int64  381109     154.347397   \n",
       "id                           0       0.0    int64  381109  190555.000000   \n",
       "\n",
       "                        median       min        max  \n",
       "Age                       36.0        20         85  \n",
       "Annual_Premium         31669.0      2630     540165  \n",
       "Driving_License            1.0         0          1  \n",
       "Gender                     NaN    Female       Male  \n",
       "Policy_Sales_Channel     133.0         1        163  \n",
       "Previously_Insured         0.0         0          1  \n",
       "Region_Code               28.0         0         52  \n",
       "Response                   0.0         0          1  \n",
       "Vehicle_Age                NaN  1-2 Year  > 2 Years  \n",
       "Vehicle_Damage             NaN        No        Yes  \n",
       "Vintage                  154.0        10        299  \n",
       "id                    190555.0         1     381109  "
      ]
     },
     "execution_count": 4,
     "metadata": {},
     "output_type": "execute_result"
    }
   ],
   "source": [
    "eda(df)"
   ]
  },
  {
   "cell_type": "raw",
   "metadata": {},
   "source": [
    "Dummmified the categorical columns for a better performance of the models, deleting not necessary columns"
   ]
  },
  {
   "cell_type": "code",
   "execution_count": 5,
   "metadata": {},
   "outputs": [],
   "source": [
    "for i in df[['Gender','Vehicle_Damage','Vehicle_Age']]:\n",
    "    x=pd.get_dummies(df[i],prefix=i)\n",
    "    df=pd.concat([df,x],axis=1)\n",
    "    del df[i]"
   ]
  },
  {
   "cell_type": "code",
   "execution_count": 6,
   "metadata": {},
   "outputs": [],
   "source": [
    "df.drop(['Gender_Male','Vehicle_Damage_No'],axis=1,inplace=True)"
   ]
  },
  {
   "cell_type": "code",
   "execution_count": 7,
   "metadata": {},
   "outputs": [],
   "source": [
    "df['class']=df.Response\n",
    "df.drop('Response',axis=1,inplace=True)\n"
   ]
  },
  {
   "cell_type": "code",
   "execution_count": 8,
   "metadata": {},
   "outputs": [
    {
     "data": {
      "text/html": [
       "<div>\n",
       "<style scoped>\n",
       "    .dataframe tbody tr th:only-of-type {\n",
       "        vertical-align: middle;\n",
       "    }\n",
       "\n",
       "    .dataframe tbody tr th {\n",
       "        vertical-align: top;\n",
       "    }\n",
       "\n",
       "    .dataframe thead th {\n",
       "        text-align: right;\n",
       "    }\n",
       "</style>\n",
       "<table border=\"1\" class=\"dataframe\">\n",
       "  <thead>\n",
       "    <tr style=\"text-align: right;\">\n",
       "      <th></th>\n",
       "      <th>id</th>\n",
       "      <th>Age</th>\n",
       "      <th>Driving_License</th>\n",
       "      <th>Region_Code</th>\n",
       "      <th>Previously_Insured</th>\n",
       "      <th>Annual_Premium</th>\n",
       "      <th>Policy_Sales_Channel</th>\n",
       "      <th>Vintage</th>\n",
       "      <th>Gender_Female</th>\n",
       "      <th>Vehicle_Damage_Yes</th>\n",
       "      <th>Vehicle_Age_1-2 Year</th>\n",
       "      <th>Vehicle_Age_&lt; 1 Year</th>\n",
       "      <th>Vehicle_Age_&gt; 2 Years</th>\n",
       "      <th>class</th>\n",
       "    </tr>\n",
       "  </thead>\n",
       "  <tbody>\n",
       "    <tr>\n",
       "      <th>0</th>\n",
       "      <td>1</td>\n",
       "      <td>44</td>\n",
       "      <td>1</td>\n",
       "      <td>28.0</td>\n",
       "      <td>0</td>\n",
       "      <td>40454.0</td>\n",
       "      <td>26.0</td>\n",
       "      <td>217</td>\n",
       "      <td>0</td>\n",
       "      <td>1</td>\n",
       "      <td>0</td>\n",
       "      <td>0</td>\n",
       "      <td>1</td>\n",
       "      <td>1</td>\n",
       "    </tr>\n",
       "    <tr>\n",
       "      <th>1</th>\n",
       "      <td>2</td>\n",
       "      <td>76</td>\n",
       "      <td>1</td>\n",
       "      <td>3.0</td>\n",
       "      <td>0</td>\n",
       "      <td>33536.0</td>\n",
       "      <td>26.0</td>\n",
       "      <td>183</td>\n",
       "      <td>0</td>\n",
       "      <td>0</td>\n",
       "      <td>1</td>\n",
       "      <td>0</td>\n",
       "      <td>0</td>\n",
       "      <td>0</td>\n",
       "    </tr>\n",
       "    <tr>\n",
       "      <th>2</th>\n",
       "      <td>3</td>\n",
       "      <td>47</td>\n",
       "      <td>1</td>\n",
       "      <td>28.0</td>\n",
       "      <td>0</td>\n",
       "      <td>38294.0</td>\n",
       "      <td>26.0</td>\n",
       "      <td>27</td>\n",
       "      <td>0</td>\n",
       "      <td>1</td>\n",
       "      <td>0</td>\n",
       "      <td>0</td>\n",
       "      <td>1</td>\n",
       "      <td>1</td>\n",
       "    </tr>\n",
       "    <tr>\n",
       "      <th>3</th>\n",
       "      <td>4</td>\n",
       "      <td>21</td>\n",
       "      <td>1</td>\n",
       "      <td>11.0</td>\n",
       "      <td>1</td>\n",
       "      <td>28619.0</td>\n",
       "      <td>152.0</td>\n",
       "      <td>203</td>\n",
       "      <td>0</td>\n",
       "      <td>0</td>\n",
       "      <td>0</td>\n",
       "      <td>1</td>\n",
       "      <td>0</td>\n",
       "      <td>0</td>\n",
       "    </tr>\n",
       "    <tr>\n",
       "      <th>4</th>\n",
       "      <td>5</td>\n",
       "      <td>29</td>\n",
       "      <td>1</td>\n",
       "      <td>41.0</td>\n",
       "      <td>1</td>\n",
       "      <td>27496.0</td>\n",
       "      <td>152.0</td>\n",
       "      <td>39</td>\n",
       "      <td>1</td>\n",
       "      <td>0</td>\n",
       "      <td>0</td>\n",
       "      <td>1</td>\n",
       "      <td>0</td>\n",
       "      <td>0</td>\n",
       "    </tr>\n",
       "  </tbody>\n",
       "</table>\n",
       "</div>"
      ],
      "text/plain": [
       "   id  Age  Driving_License  Region_Code  Previously_Insured  Annual_Premium  \\\n",
       "0   1   44                1         28.0                   0         40454.0   \n",
       "1   2   76                1          3.0                   0         33536.0   \n",
       "2   3   47                1         28.0                   0         38294.0   \n",
       "3   4   21                1         11.0                   1         28619.0   \n",
       "4   5   29                1         41.0                   1         27496.0   \n",
       "\n",
       "   Policy_Sales_Channel  Vintage  Gender_Female  Vehicle_Damage_Yes  \\\n",
       "0                  26.0      217              0                   1   \n",
       "1                  26.0      183              0                   0   \n",
       "2                  26.0       27              0                   1   \n",
       "3                 152.0      203              0                   0   \n",
       "4                 152.0       39              1                   0   \n",
       "\n",
       "   Vehicle_Age_1-2 Year  Vehicle_Age_< 1 Year  Vehicle_Age_> 2 Years  class  \n",
       "0                     0                     0                      1      1  \n",
       "1                     1                     0                      0      0  \n",
       "2                     0                     0                      1      1  \n",
       "3                     0                     1                      0      0  \n",
       "4                     0                     1                      0      0  "
      ]
     },
     "execution_count": 8,
     "metadata": {},
     "output_type": "execute_result"
    }
   ],
   "source": [
    "df.head()"
   ]
  },
  {
   "cell_type": "markdown",
   "metadata": {},
   "source": [
    "## Data visualization"
   ]
  },
  {
   "cell_type": "markdown",
   "metadata": {},
   "source": [
    "### Fees with respect of the Age and class separation"
   ]
  },
  {
   "cell_type": "code",
   "execution_count": 9,
   "metadata": {},
   "outputs": [
    {
     "data": {
      "image/png": "[encoded data removed]",
      "text/plain": [
       "<Figure size 468x468 with 1 Axes>"
      ]
     },
     "metadata": {
      "needs_background": "light"
     },
     "output_type": "display_data"
    }
   ],
   "source": [
    "f, ax = plt.subplots(figsize=(6.5, 6.5))\n",
    "\n",
    "sns.despine(f, left=True, bottom=True)\n",
    "sns.scatterplot(x=\"Age\", y=\"Annual_Premium\",\n",
    "                hue=\"class\",\n",
    "                palette=\"ch:r=-.2,d=.3_r\",\n",
    "                sizes=(1, 8), linewidth=0,\n",
    "                data=df, ax=ax)\n",
    "plt.show()\n"
   ]
  },
  {
   "cell_type": "markdown",
   "metadata": {},
   "source": [
    "### Region distribution by Age and class"
   ]
  },
  {
   "cell_type": "code",
   "execution_count": 10,
   "metadata": {},
   "outputs": [
    {
     "data": {
      "image/png": "[encoded data removed]",
      "text/plain": [
       "<Figure size 468x468 with 1 Axes>"
      ]
     },
     "metadata": {
      "needs_background": "light"
     },
     "output_type": "display_data"
    }
   ],
   "source": [
    "f, ax = plt.subplots(figsize=(6.5, 6.5))\n",
    "sns.despine(f, left=True, bottom=True)\n",
    "sns.scatterplot(x=\"Age\", y=\"Region_Code\",\n",
    "                hue=\"class\",\n",
    "                palette=\"ch:r=-.2,d=.3_r\",\n",
    "                sizes=(1, 8), linewidth=0,\n",
    "                data=df, ax=ax)\n",
    "\n",
    "\n",
    "plt.show()\n",
    "\n"
   ]
  },
  {
   "cell_type": "markdown",
   "metadata": {},
   "source": [
    "### Former clients by Age and Sales channel conduct with class distribution"
   ]
  },
  {
   "cell_type": "code",
   "execution_count": 11,
   "metadata": {},
   "outputs": [
    {
     "data": {
      "image/png": "[encoded data removed]",
      "text/plain": [
       "<Figure size 720x468 with 2 Axes>"
      ]
     },
     "metadata": {
      "needs_background": "light"
     },
     "output_type": "display_data"
    }
   ],
   "source": [
    "plt.subplots(figsize=(10,6.5))\n",
    "plt.subplot(1,2,1)\n",
    "sns.boxplot(x=\"Previously_Insured\", y=\"Age\",hue=\"class\", palette=\"ch:r=-.2,d=.3_r\",data=df)\n",
    "plt.subplot(1,2,2)\n",
    "sns.boxplot(x=\"Previously_Insured\", y=\"Policy_Sales_Channel\",hue=\"class\", palette=\"ch:r=-.2,d=.3_r\",data=df)\n",
    "\n",
    "plt.show()"
   ]
  },
  {
   "cell_type": "markdown",
   "metadata": {},
   "source": [
    "### Damaged cars with previous insurance"
   ]
  },
  {
   "cell_type": "code",
   "execution_count": 12,
   "metadata": {},
   "outputs": [
    {
     "data": {
      "image/png": "[encoded data removed]",
      "text/plain": [
       "<Figure size 432x288 with 1 Axes>"
      ]
     },
     "metadata": {
      "needs_background": "light"
     },
     "output_type": "display_data"
    }
   ],
   "source": [
    "sns.barplot(x=\"Previously_Insured\", y=\"Vehicle_Damage_Yes\",\n",
    "            hue=\"class\", palette=\"ch:r=-.2,d=.3_r\",\n",
    "            data=df)\n",
    "plt.show()"
   ]
  },
  {
   "cell_type": "markdown",
   "metadata": {},
   "source": [
    "### Age distribution by car's age & Gender"
   ]
  },
  {
   "cell_type": "code",
   "execution_count": 13,
   "metadata": {},
   "outputs": [
    {
     "data": {
      "image/png": "[encoded data removed]",
      "text/plain": [
       "<Figure size 720x720 with 4 Axes>"
      ]
     },
     "metadata": {
      "needs_background": "light"
     },
     "output_type": "display_data"
    }
   ],
   "source": [
    "plt.subplots(figsize=(10,10))\n",
    "plt.subplot(2,2,1)\n",
    "sns.barplot(x=\"Vehicle_Age_1-2 Year\", y=\"Age\",hue=\"class\", palette=\"ch:r=-.2,d=.3_r\",data=df)\n",
    "plt.subplot(2,2,2)\n",
    "sns.barplot(x=\"Vehicle_Age_< 1 Year\", y=\"Age\",hue=\"class\", palette=\"ch:r=-.2,d=.3_r\",data=df)\n",
    "plt.subplot(2,2,3)\n",
    "sns.barplot(x=\"Vehicle_Age_> 2 Years\", y=\"Age\",hue=\"class\", palette=\"ch:r=-.2,d=.3_r\",data=df)\n",
    "plt.subplot(2,2,4)\n",
    "sns.barplot(x=\"Gender_Female\", y=\"Age\",hue=\"class\", palette=\"ch:r=-.2,d=.3_r\",data=df)\n",
    "plt.show()"
   ]
  },
  {
   "cell_type": "raw",
   "metadata": {},
   "source": [
    "Transform the numerical data into a normal distribution scale"
   ]
  },
  {
   "cell_type": "code",
   "execution_count": 14,
   "metadata": {},
   "outputs": [],
   "source": [
    "df[['Age','Annual_Premium','Vintage']]=StandardScaler().fit_transform(df[['Age','Annual_Premium','Vintage']])\n"
   ]
  },
  {
   "cell_type": "code",
   "execution_count": 15,
   "metadata": {},
   "outputs": [],
   "source": [
    "df.drop('id',axis=1,inplace=True)"
   ]
  },
  {
   "cell_type": "code",
   "execution_count": 16,
   "metadata": {},
   "outputs": [
    {
     "data": {
      "text/html": [
       "<div>\n",
       "<style scoped>\n",
       "    .dataframe tbody tr th:only-of-type {\n",
       "        vertical-align: middle;\n",
       "    }\n",
       "\n",
       "    .dataframe tbody tr th {\n",
       "        vertical-align: top;\n",
       "    }\n",
       "\n",
       "    .dataframe thead th {\n",
       "        text-align: right;\n",
       "    }\n",
       "</style>\n",
       "<table border=\"1\" class=\"dataframe\">\n",
       "  <thead>\n",
       "    <tr style=\"text-align: right;\">\n",
       "      <th></th>\n",
       "      <th>Age</th>\n",
       "      <th>Driving_License</th>\n",
       "      <th>Region_Code</th>\n",
       "      <th>Previously_Insured</th>\n",
       "      <th>Annual_Premium</th>\n",
       "      <th>Policy_Sales_Channel</th>\n",
       "      <th>Vintage</th>\n",
       "      <th>Gender_Female</th>\n",
       "      <th>Vehicle_Damage_Yes</th>\n",
       "      <th>Vehicle_Age_1-2 Year</th>\n",
       "      <th>Vehicle_Age_&lt; 1 Year</th>\n",
       "      <th>Vehicle_Age_&gt; 2 Years</th>\n",
       "      <th>class</th>\n",
       "    </tr>\n",
       "  </thead>\n",
       "  <tbody>\n",
       "    <tr>\n",
       "      <th>0</th>\n",
       "      <td>0.333777</td>\n",
       "      <td>1</td>\n",
       "      <td>28.0</td>\n",
       "      <td>0</td>\n",
       "      <td>0.574539</td>\n",
       "      <td>26.0</td>\n",
       "      <td>0.748795</td>\n",
       "      <td>0</td>\n",
       "      <td>1</td>\n",
       "      <td>0</td>\n",
       "      <td>0</td>\n",
       "      <td>1</td>\n",
       "      <td>1</td>\n",
       "    </tr>\n",
       "    <tr>\n",
       "      <th>1</th>\n",
       "      <td>2.396751</td>\n",
       "      <td>1</td>\n",
       "      <td>3.0</td>\n",
       "      <td>0</td>\n",
       "      <td>0.172636</td>\n",
       "      <td>26.0</td>\n",
       "      <td>0.342443</td>\n",
       "      <td>0</td>\n",
       "      <td>0</td>\n",
       "      <td>1</td>\n",
       "      <td>0</td>\n",
       "      <td>0</td>\n",
       "      <td>0</td>\n",
       "    </tr>\n",
       "    <tr>\n",
       "      <th>2</th>\n",
       "      <td>0.527181</td>\n",
       "      <td>1</td>\n",
       "      <td>28.0</td>\n",
       "      <td>0</td>\n",
       "      <td>0.449053</td>\n",
       "      <td>26.0</td>\n",
       "      <td>-1.521998</td>\n",
       "      <td>0</td>\n",
       "      <td>1</td>\n",
       "      <td>0</td>\n",
       "      <td>0</td>\n",
       "      <td>1</td>\n",
       "      <td>1</td>\n",
       "    </tr>\n",
       "    <tr>\n",
       "      <th>3</th>\n",
       "      <td>-1.148985</td>\n",
       "      <td>1</td>\n",
       "      <td>11.0</td>\n",
       "      <td>1</td>\n",
       "      <td>-0.113018</td>\n",
       "      <td>152.0</td>\n",
       "      <td>0.581474</td>\n",
       "      <td>0</td>\n",
       "      <td>0</td>\n",
       "      <td>0</td>\n",
       "      <td>1</td>\n",
       "      <td>0</td>\n",
       "      <td>0</td>\n",
       "    </tr>\n",
       "    <tr>\n",
       "      <th>4</th>\n",
       "      <td>-0.633242</td>\n",
       "      <td>1</td>\n",
       "      <td>41.0</td>\n",
       "      <td>1</td>\n",
       "      <td>-0.178259</td>\n",
       "      <td>152.0</td>\n",
       "      <td>-1.378580</td>\n",
       "      <td>1</td>\n",
       "      <td>0</td>\n",
       "      <td>0</td>\n",
       "      <td>1</td>\n",
       "      <td>0</td>\n",
       "      <td>0</td>\n",
       "    </tr>\n",
       "  </tbody>\n",
       "</table>\n",
       "</div>"
      ],
      "text/plain": [
       "        Age  Driving_License  Region_Code  Previously_Insured  Annual_Premium  \\\n",
       "0  0.333777                1         28.0                   0        0.574539   \n",
       "1  2.396751                1          3.0                   0        0.172636   \n",
       "2  0.527181                1         28.0                   0        0.449053   \n",
       "3 -1.148985                1         11.0                   1       -0.113018   \n",
       "4 -0.633242                1         41.0                   1       -0.178259   \n",
       "\n",
       "   Policy_Sales_Channel   Vintage  Gender_Female  Vehicle_Damage_Yes  \\\n",
       "0                  26.0  0.748795              0                   1   \n",
       "1                  26.0  0.342443              0                   0   \n",
       "2                  26.0 -1.521998              0                   1   \n",
       "3                 152.0  0.581474              0                   0   \n",
       "4                 152.0 -1.378580              1                   0   \n",
       "\n",
       "   Vehicle_Age_1-2 Year  Vehicle_Age_< 1 Year  Vehicle_Age_> 2 Years  class  \n",
       "0                     0                     0                      1      1  \n",
       "1                     1                     0                      0      0  \n",
       "2                     0                     0                      1      1  \n",
       "3                     0                     1                      0      0  \n",
       "4                     0                     1                      0      0  "
      ]
     },
     "execution_count": 16,
     "metadata": {},
     "output_type": "execute_result"
    }
   ],
   "source": [
    "df.head()"
   ]
  },
  {
   "cell_type": "markdown",
   "metadata": {},
   "source": [
    "## Classification Modeling"
   ]
  },
  {
   "cell_type": "code",
   "execution_count": 17,
   "metadata": {},
   "outputs": [],
   "source": [
    "X=df.iloc[:,:-1].values\n",
    "y=df.iloc[:,-1:].values"
   ]
  },
  {
   "cell_type": "raw",
   "metadata": {},
   "source": [
    "Feature importance"
   ]
  },
  {
   "cell_type": "code",
   "execution_count": 18,
   "metadata": {},
   "outputs": [
    {
     "name": "stderr",
     "output_type": "stream",
     "text": [
      "/Users/ismaelgarciainigo/opt/anaconda3/lib/python3.7/site-packages/ipykernel_launcher.py:5: DataConversionWarning: A column-vector y was passed when a 1d array was expected. Please change the shape of y to (n_samples,), for example using ravel().\n",
      "  \"\"\"\n"
     ]
    },
    {
     "name": "stdout",
     "output_type": "stream",
     "text": [
      "Feature ranking:\n",
      "1. feature 6 (0.269780)\n",
      "2. feature 4 (0.243624)\n",
      "3. feature 0 (0.152813)\n",
      "4. feature 2 (0.107485)\n",
      "5. feature 8 (0.072895)\n",
      "6. feature 5 (0.071467)\n",
      "7. feature 3 (0.052174)\n",
      "8. feature 10 (0.014794)\n",
      "9. feature 9 (0.007477)\n",
      "10. feature 7 (0.004426)\n",
      "11. feature 11 (0.002603)\n",
      "12. feature 1 (0.000463)\n"
     ]
    },
    {
     "data": {
      "image/png": "[encoded data removed]",
      "text/plain": [
       "<Figure size 720x576 with 1 Axes>"
      ]
     },
     "metadata": {
      "needs_background": "light"
     },
     "output_type": "display_data"
    }
   ],
   "source": [
    "from sklearn.ensemble import ExtraTreesClassifier\n",
    "\n",
    "# Build a forest and compute the feature importances\n",
    "forest = ExtraTreesClassifier(n_estimators=250,random_state=0)\n",
    "forest.fit(X, y)\n",
    "importances = forest.feature_importances_\n",
    "std = np.std([tree.feature_importances_ for tree in forest.estimators_], axis=0)\n",
    "indices = np.argsort(importances)[::-1]\n",
    "\n",
    "# Print the feature ranking\n",
    "print(\"Feature ranking:\")\n",
    "\n",
    "for f in range(X.shape[1]):\n",
    "    print(\"%d. feature %d (%f)\" % (f + 1, indices[f], importances[indices[f]]))\n",
    "\n",
    "# Plot the feature importances of the forest\n",
    "plt.figure(figsize=(10,8))\n",
    "plt.title(\"Feature importances\")\n",
    "plt.bar(range(X.shape[1]), importances[indices],\n",
    "       color=\"r\", yerr=std[indices], align=\"center\")\n",
    "plt.xticks(range(X.shape[1]), indices)\n",
    "plt.xlim([-1, X.shape[1]])\n",
    "plt.show()"
   ]
  },
  {
   "cell_type": "code",
   "execution_count": 19,
   "metadata": {},
   "outputs": [
    {
     "name": "stdout",
     "output_type": "stream",
     "text": [
      "0 Age\n",
      "1 Driving_License\n",
      "2 Region_Code\n",
      "3 Previously_Insured\n",
      "4 Annual_Premium\n",
      "5 Policy_Sales_Channel\n",
      "6 Vintage\n",
      "7 Gender_Female\n",
      "8 Vehicle_Damage_Yes\n",
      "9 Vehicle_Age_1-2 Year\n",
      "10 Vehicle_Age_< 1 Year\n",
      "11 Vehicle_Age_> 2 Years\n",
      "12 class\n"
     ]
    },
    {
     "data": {
      "text/plain": [
       "[None, None, None, None, None, None, None, None, None, None, None, None, None]"
      ]
     },
     "execution_count": 19,
     "metadata": {},
     "output_type": "execute_result"
    }
   ],
   "source": [
    "visual_columns=[print(i,j) for i,j in enumerate(df.columns)]\n",
    "visual_columns"
   ]
  },
  {
   "cell_type": "code",
   "execution_count": 20,
   "metadata": {},
   "outputs": [],
   "source": [
    "from collections import Counter"
   ]
  },
  {
   "cell_type": "raw",
   "metadata": {},
   "source": [
    "To fight the class imbalance I use SMOTE approach from the imblearn library, so after resampled the data I have the same amount of patterns on both sides. Thus improves the perfomance of the algorithm and Neural network"
   ]
  },
  {
   "cell_type": "code",
   "execution_count": 21,
   "metadata": {},
   "outputs": [],
   "source": [
    "from imblearn.over_sampling import RandomOverSampler,SMOTE, ADASYN\n",
    "X_resampled, y_resampled = SMOTE().fit_resample(X, y)"
   ]
  },
  {
   "cell_type": "code",
   "execution_count": 22,
   "metadata": {},
   "outputs": [
    {
     "data": {
      "text/plain": [
       "Counter({1: 334399, 0: 334399})"
      ]
     },
     "execution_count": 22,
     "metadata": {},
     "output_type": "execute_result"
    }
   ],
   "source": [
    "Counter(y_resampled)"
   ]
  },
  {
   "cell_type": "markdown",
   "metadata": {},
   "source": [
    "# Random Forest Classifier"
   ]
  },
  {
   "cell_type": "code",
   "execution_count": 23,
   "metadata": {},
   "outputs": [
    {
     "name": "stdout",
     "output_type": "stream",
     "text": [
      "              precision    recall  f1-score   support\n",
      "\n",
      "           0      0.942     0.866     0.902    334399\n",
      "           1      0.876     0.946     0.910    334399\n",
      "\n",
      "    accuracy                          0.906    668798\n",
      "   macro avg      0.909     0.906     0.906    668798\n",
      "weighted avg      0.909     0.906     0.906    668798\n",
      "\n"
     ]
    }
   ],
   "source": [
    "from sklearn.model_selection import KFold\n",
    "from sklearn.metrics import classification_report\n",
    "from sklearn.ensemble import RandomForestClassifier\n",
    "\n",
    "kf = KFold(n_splits=10)\n",
    "kf.get_n_splits(X_resampled)\n",
    "yhat=[]\n",
    "y_true = []\n",
    "for train_index, test_index in kf.split(X_resampled):\n",
    "    X_train, X_test = X_resampled[train_index], X_resampled[test_index]\n",
    "    y_train, y_test = y_resampled[train_index], y_resampled[test_index]\n",
    "    \n",
    "    clasificador = RandomForestClassifier()\n",
    "    clasificador.fit(X_train, y_train)\n",
    "    yhat1 = clasificador.predict(X_test)\n",
    "    yhat.extend(yhat1)\n",
    "    y_true.extend(y_test)\n",
    "print(classification_report(y_true,yhat,digits=3))"
   ]
  },
  {
   "cell_type": "code",
   "execution_count": 24,
   "metadata": {},
   "outputs": [],
   "source": [
    "import tensorflow as tf\n",
    "from tensorflow.keras import Sequential\n",
    "from tensorflow.keras.layers import Dense\n",
    "from tensorflow.keras.layers import Flatten"
   ]
  },
  {
   "cell_type": "markdown",
   "metadata": {},
   "source": [
    "# Neural network"
   ]
  },
  {
   "cell_type": "code",
   "execution_count": 26,
   "metadata": {},
   "outputs": [],
   "source": [
    "from tensorflow import keras\n",
    "model = keras.Sequential([\n",
    "    keras.layers.Flatten(),\n",
    "    keras.layers.Dense(1500, activation='sigmoid'),\n",
    "    keras.layers.Dense(1000, activation='sigmoid'),\n",
    "    keras.layers.Dense(500, activation='relu'),\n",
    "    keras.layers.Dense(250, activation='relu'),\n",
    "    keras.layers.Dense(2, activation='softmax') #el 2 es necesario porque son 2 clases \n",
    "])"
   ]
  },
  {
   "cell_type": "code",
   "execution_count": 27,
   "metadata": {},
   "outputs": [],
   "source": [
    "model.compile(optimizer='adam',\n",
    "              loss='sparse_categorical_crossentropy',\n",
    "              metrics=['accuracy'])"
   ]
  },
  {
   "cell_type": "code",
   "execution_count": 28,
   "metadata": {},
   "outputs": [
    {
     "name": "stdout",
     "output_type": "stream",
     "text": [
      "Epoch 1/20\n",
      "20900/20900 [==============================] - 138s 7ms/step - loss: 0.4365 - accuracy: 0.7854\n",
      "Epoch 2/20\n",
      "20900/20900 [==============================] - 144s 7ms/step - loss: 0.4222 - accuracy: 0.7964\n",
      "Epoch 3/20\n",
      "20900/20900 [==============================] - 155s 7ms/step - loss: 0.4196 - accuracy: 0.7980\n",
      "Epoch 4/20\n",
      "20900/20900 [==============================] - 149s 7ms/step - loss: 0.4178 - accuracy: 0.7995\n",
      "Epoch 5/20\n",
      "20900/20900 [==============================] - 149s 7ms/step - loss: 0.4166 - accuracy: 0.8008\n",
      "Epoch 6/20\n",
      "20900/20900 [==============================] - 150s 7ms/step - loss: 0.4155 - accuracy: 0.8016\n",
      "Epoch 7/20\n",
      "20900/20900 [==============================] - 1477s 71ms/step - loss: 0.4143 - accuracy: 0.8024\n",
      "Epoch 8/20\n",
      "20900/20900 [==============================] - 152s 7ms/step - loss: 0.4138 - accuracy: 0.8027\n",
      "Epoch 9/20\n",
      "20900/20900 [==============================] - 147s 7ms/step - loss: 0.4140 - accuracy: 0.8025\n",
      "Epoch 10/20\n",
      "20900/20900 [==============================] - 141s 7ms/step - loss: 0.4132 - accuracy: 0.8035\n",
      "Epoch 11/20\n",
      "20900/20900 [==============================] - 141s 7ms/step - loss: 0.4124 - accuracy: 0.8036\n",
      "Epoch 12/20\n",
      "20900/20900 [==============================] - 145s 7ms/step - loss: 0.4115 - accuracy: 0.8039\n",
      "Epoch 13/20\n",
      "20900/20900 [==============================] - 147s 7ms/step - loss: 0.4110 - accuracy: 0.8045\n",
      "Epoch 14/20\n",
      "20900/20900 [==============================] - 148s 7ms/step - loss: 0.4104 - accuracy: 0.8050\n",
      "Epoch 15/20\n",
      "20900/20900 [==============================] - 1400s 67ms/step - loss: 0.4100 - accuracy: 0.8049\n",
      "Epoch 16/20\n",
      "20900/20900 [==============================] - 153s 7ms/step - loss: 0.4100 - accuracy: 0.8054\n",
      "Epoch 17/20\n",
      "20900/20900 [==============================] - 149s 7ms/step - loss: 0.4096 - accuracy: 0.8054\n",
      "Epoch 18/20\n",
      "20900/20900 [==============================] - 160s 8ms/step - loss: 0.4093 - accuracy: 0.8055\n",
      "Epoch 19/20\n",
      "20900/20900 [==============================] - 150s 7ms/step - loss: 0.4090 - accuracy: 0.8058\n",
      "Epoch 20/20\n",
      "20900/20900 [==============================] - 155s 7ms/step - loss: 0.4087 - accuracy: 0.8060\n"
     ]
    },
    {
     "data": {
      "text/plain": [
       "<tensorflow.python.keras.callbacks.History at 0x7f96a5356ad0>"
      ]
     },
     "execution_count": 28,
     "metadata": {},
     "output_type": "execute_result"
    }
   ],
   "source": [
    "model.fit(X_resampled,y_resampled, epochs=20, verbose=1)"
   ]
  },
  {
   "cell_type": "markdown",
   "metadata": {},
   "source": [
    "# Test Dataset"
   ]
  },
  {
   "cell_type": "code",
   "execution_count": 29,
   "metadata": {},
   "outputs": [
    {
     "data": {
      "text/html": [
       "<div>\n",
       "<style scoped>\n",
       "    .dataframe tbody tr th:only-of-type {\n",
       "        vertical-align: middle;\n",
       "    }\n",
       "\n",
       "    .dataframe tbody tr th {\n",
       "        vertical-align: top;\n",
       "    }\n",
       "\n",
       "    .dataframe thead th {\n",
       "        text-align: right;\n",
       "    }\n",
       "</style>\n",
       "<table border=\"1\" class=\"dataframe\">\n",
       "  <thead>\n",
       "    <tr style=\"text-align: right;\">\n",
       "      <th></th>\n",
       "      <th>id</th>\n",
       "      <th>Gender</th>\n",
       "      <th>Age</th>\n",
       "      <th>Driving_License</th>\n",
       "      <th>Region_Code</th>\n",
       "      <th>Previously_Insured</th>\n",
       "      <th>Vehicle_Age</th>\n",
       "      <th>Vehicle_Damage</th>\n",
       "      <th>Annual_Premium</th>\n",
       "      <th>Policy_Sales_Channel</th>\n",
       "      <th>Vintage</th>\n",
       "    </tr>\n",
       "  </thead>\n",
       "  <tbody>\n",
       "    <tr>\n",
       "      <th>0</th>\n",
       "      <td>381110</td>\n",
       "      <td>Male</td>\n",
       "      <td>25</td>\n",
       "      <td>1</td>\n",
       "      <td>11.0</td>\n",
       "      <td>1</td>\n",
       "      <td>&lt; 1 Year</td>\n",
       "      <td>No</td>\n",
       "      <td>35786.0</td>\n",
       "      <td>152.0</td>\n",
       "      <td>53</td>\n",
       "    </tr>\n",
       "    <tr>\n",
       "      <th>1</th>\n",
       "      <td>381111</td>\n",
       "      <td>Male</td>\n",
       "      <td>40</td>\n",
       "      <td>1</td>\n",
       "      <td>28.0</td>\n",
       "      <td>0</td>\n",
       "      <td>1-2 Year</td>\n",
       "      <td>Yes</td>\n",
       "      <td>33762.0</td>\n",
       "      <td>7.0</td>\n",
       "      <td>111</td>\n",
       "    </tr>\n",
       "    <tr>\n",
       "      <th>2</th>\n",
       "      <td>381112</td>\n",
       "      <td>Male</td>\n",
       "      <td>47</td>\n",
       "      <td>1</td>\n",
       "      <td>28.0</td>\n",
       "      <td>0</td>\n",
       "      <td>1-2 Year</td>\n",
       "      <td>Yes</td>\n",
       "      <td>40050.0</td>\n",
       "      <td>124.0</td>\n",
       "      <td>199</td>\n",
       "    </tr>\n",
       "    <tr>\n",
       "      <th>3</th>\n",
       "      <td>381113</td>\n",
       "      <td>Male</td>\n",
       "      <td>24</td>\n",
       "      <td>1</td>\n",
       "      <td>27.0</td>\n",
       "      <td>1</td>\n",
       "      <td>&lt; 1 Year</td>\n",
       "      <td>Yes</td>\n",
       "      <td>37356.0</td>\n",
       "      <td>152.0</td>\n",
       "      <td>187</td>\n",
       "    </tr>\n",
       "    <tr>\n",
       "      <th>4</th>\n",
       "      <td>381114</td>\n",
       "      <td>Male</td>\n",
       "      <td>27</td>\n",
       "      <td>1</td>\n",
       "      <td>28.0</td>\n",
       "      <td>1</td>\n",
       "      <td>&lt; 1 Year</td>\n",
       "      <td>No</td>\n",
       "      <td>59097.0</td>\n",
       "      <td>152.0</td>\n",
       "      <td>297</td>\n",
       "    </tr>\n",
       "  </tbody>\n",
       "</table>\n",
       "</div>"
      ],
      "text/plain": [
       "       id Gender  Age  Driving_License  Region_Code  Previously_Insured  \\\n",
       "0  381110   Male   25                1         11.0                   1   \n",
       "1  381111   Male   40                1         28.0                   0   \n",
       "2  381112   Male   47                1         28.0                   0   \n",
       "3  381113   Male   24                1         27.0                   1   \n",
       "4  381114   Male   27                1         28.0                   1   \n",
       "\n",
       "  Vehicle_Age Vehicle_Damage  Annual_Premium  Policy_Sales_Channel  Vintage  \n",
       "0    < 1 Year             No         35786.0                 152.0       53  \n",
       "1    1-2 Year            Yes         33762.0                   7.0      111  \n",
       "2    1-2 Year            Yes         40050.0                 124.0      199  \n",
       "3    < 1 Year            Yes         37356.0                 152.0      187  \n",
       "4    < 1 Year             No         59097.0                 152.0      297  "
      ]
     },
     "execution_count": 29,
     "metadata": {},
     "output_type": "execute_result"
    }
   ],
   "source": [
    "df1=pd.read_csv('/Users/ismaelgarciainigo/Desktop/NEOLAND BOOTCAMP/Health_insurance/test.csv')\n",
    "df1.head()"
   ]
  },
  {
   "cell_type": "raw",
   "metadata": {},
   "source": [
    "I have made the same changes like in the train dataset to have the best prediction"
   ]
  },
  {
   "cell_type": "code",
   "execution_count": 30,
   "metadata": {},
   "outputs": [],
   "source": [
    "for i in df1[['Gender','Vehicle_Damage','Vehicle_Age']]:\n",
    "    x=pd.get_dummies(df1[i],prefix=i)\n",
    "    df1=pd.concat([df1,x],axis=1)\n",
    "    del df1[i]"
   ]
  },
  {
   "cell_type": "code",
   "execution_count": 31,
   "metadata": {},
   "outputs": [],
   "source": [
    "df1.drop(['Gender_Male','Vehicle_Damage_No'],axis=1,inplace=True)"
   ]
  },
  {
   "cell_type": "code",
   "execution_count": 32,
   "metadata": {},
   "outputs": [],
   "source": [
    "df1.drop('id',axis=1,inplace=True)"
   ]
  },
  {
   "cell_type": "code",
   "execution_count": 33,
   "metadata": {},
   "outputs": [],
   "source": [
    "df1[['Age','Annual_Premium','Vintage']]=StandardScaler().fit_transform(df1[['Age','Annual_Premium','Vintage']])"
   ]
  },
  {
   "cell_type": "code",
   "execution_count": 34,
   "metadata": {},
   "outputs": [
    {
     "data": {
      "text/html": [
       "<div>\n",
       "<style scoped>\n",
       "    .dataframe tbody tr th:only-of-type {\n",
       "        vertical-align: middle;\n",
       "    }\n",
       "\n",
       "    .dataframe tbody tr th {\n",
       "        vertical-align: top;\n",
       "    }\n",
       "\n",
       "    .dataframe thead th {\n",
       "        text-align: right;\n",
       "    }\n",
       "</style>\n",
       "<table border=\"1\" class=\"dataframe\">\n",
       "  <thead>\n",
       "    <tr style=\"text-align: right;\">\n",
       "      <th></th>\n",
       "      <th>Age</th>\n",
       "      <th>Driving_License</th>\n",
       "      <th>Region_Code</th>\n",
       "      <th>Previously_Insured</th>\n",
       "      <th>Annual_Premium</th>\n",
       "      <th>Policy_Sales_Channel</th>\n",
       "      <th>Vintage</th>\n",
       "      <th>Gender_Female</th>\n",
       "      <th>Vehicle_Damage_Yes</th>\n",
       "      <th>Vehicle_Age_1-2 Year</th>\n",
       "      <th>Vehicle_Age_&lt; 1 Year</th>\n",
       "      <th>Vehicle_Age_&gt; 2 Years</th>\n",
       "    </tr>\n",
       "  </thead>\n",
       "  <tbody>\n",
       "    <tr>\n",
       "      <th>0</th>\n",
       "      <td>-0.890089</td>\n",
       "      <td>1</td>\n",
       "      <td>11.0</td>\n",
       "      <td>1</td>\n",
       "      <td>0.310492</td>\n",
       "      <td>152.0</td>\n",
       "      <td>-1.211054</td>\n",
       "      <td>0</td>\n",
       "      <td>0</td>\n",
       "      <td>0</td>\n",
       "      <td>1</td>\n",
       "      <td>0</td>\n",
       "    </tr>\n",
       "    <tr>\n",
       "      <th>1</th>\n",
       "      <td>0.079795</td>\n",
       "      <td>1</td>\n",
       "      <td>28.0</td>\n",
       "      <td>0</td>\n",
       "      <td>0.191048</td>\n",
       "      <td>7.0</td>\n",
       "      <td>-0.517782</td>\n",
       "      <td>0</td>\n",
       "      <td>1</td>\n",
       "      <td>1</td>\n",
       "      <td>0</td>\n",
       "      <td>0</td>\n",
       "    </tr>\n",
       "    <tr>\n",
       "      <th>2</th>\n",
       "      <td>0.532408</td>\n",
       "      <td>1</td>\n",
       "      <td>28.0</td>\n",
       "      <td>0</td>\n",
       "      <td>0.562126</td>\n",
       "      <td>124.0</td>\n",
       "      <td>0.534079</td>\n",
       "      <td>0</td>\n",
       "      <td>1</td>\n",
       "      <td>1</td>\n",
       "      <td>0</td>\n",
       "      <td>0</td>\n",
       "    </tr>\n",
       "    <tr>\n",
       "      <th>3</th>\n",
       "      <td>-0.954748</td>\n",
       "      <td>1</td>\n",
       "      <td>27.0</td>\n",
       "      <td>1</td>\n",
       "      <td>0.403143</td>\n",
       "      <td>152.0</td>\n",
       "      <td>0.390643</td>\n",
       "      <td>0</td>\n",
       "      <td>1</td>\n",
       "      <td>0</td>\n",
       "      <td>1</td>\n",
       "      <td>0</td>\n",
       "    </tr>\n",
       "    <tr>\n",
       "      <th>4</th>\n",
       "      <td>-0.760771</td>\n",
       "      <td>1</td>\n",
       "      <td>28.0</td>\n",
       "      <td>1</td>\n",
       "      <td>1.686159</td>\n",
       "      <td>152.0</td>\n",
       "      <td>1.705469</td>\n",
       "      <td>0</td>\n",
       "      <td>0</td>\n",
       "      <td>0</td>\n",
       "      <td>1</td>\n",
       "      <td>0</td>\n",
       "    </tr>\n",
       "    <tr>\n",
       "      <th>...</th>\n",
       "      <td>...</td>\n",
       "      <td>...</td>\n",
       "      <td>...</td>\n",
       "      <td>...</td>\n",
       "      <td>...</td>\n",
       "      <td>...</td>\n",
       "      <td>...</td>\n",
       "      <td>...</td>\n",
       "      <td>...</td>\n",
       "      <td>...</td>\n",
       "      <td>...</td>\n",
       "      <td>...</td>\n",
       "    </tr>\n",
       "    <tr>\n",
       "      <th>127032</th>\n",
       "      <td>-0.825430</td>\n",
       "      <td>1</td>\n",
       "      <td>37.0</td>\n",
       "      <td>1</td>\n",
       "      <td>0.020204</td>\n",
       "      <td>152.0</td>\n",
       "      <td>-1.175195</td>\n",
       "      <td>1</td>\n",
       "      <td>0</td>\n",
       "      <td>0</td>\n",
       "      <td>1</td>\n",
       "      <td>0</td>\n",
       "    </tr>\n",
       "    <tr>\n",
       "      <th>127033</th>\n",
       "      <td>-0.049523</td>\n",
       "      <td>1</td>\n",
       "      <td>28.0</td>\n",
       "      <td>0</td>\n",
       "      <td>-0.107679</td>\n",
       "      <td>122.0</td>\n",
       "      <td>0.127678</td>\n",
       "      <td>1</td>\n",
       "      <td>1</td>\n",
       "      <td>1</td>\n",
       "      <td>0</td>\n",
       "      <td>0</td>\n",
       "    </tr>\n",
       "    <tr>\n",
       "      <th>127034</th>\n",
       "      <td>-1.148725</td>\n",
       "      <td>1</td>\n",
       "      <td>46.0</td>\n",
       "      <td>1</td>\n",
       "      <td>-0.042646</td>\n",
       "      <td>152.0</td>\n",
       "      <td>-0.960042</td>\n",
       "      <td>0</td>\n",
       "      <td>0</td>\n",
       "      <td>0</td>\n",
       "      <td>1</td>\n",
       "      <td>0</td>\n",
       "    </tr>\n",
       "    <tr>\n",
       "      <th>127035</th>\n",
       "      <td>2.084224</td>\n",
       "      <td>1</td>\n",
       "      <td>28.0</td>\n",
       "      <td>1</td>\n",
       "      <td>1.909113</td>\n",
       "      <td>26.0</td>\n",
       "      <td>1.322974</td>\n",
       "      <td>0</td>\n",
       "      <td>0</td>\n",
       "      <td>1</td>\n",
       "      <td>0</td>\n",
       "      <td>0</td>\n",
       "    </tr>\n",
       "    <tr>\n",
       "      <th>127036</th>\n",
       "      <td>0.144454</td>\n",
       "      <td>1</td>\n",
       "      <td>29.0</td>\n",
       "      <td>1</td>\n",
       "      <td>-0.153296</td>\n",
       "      <td>124.0</td>\n",
       "      <td>0.916574</td>\n",
       "      <td>0</td>\n",
       "      <td>0</td>\n",
       "      <td>1</td>\n",
       "      <td>0</td>\n",
       "      <td>0</td>\n",
       "    </tr>\n",
       "  </tbody>\n",
       "</table>\n",
       "<p>127037 rows × 12 columns</p>\n",
       "</div>"
      ],
      "text/plain": [
       "             Age  Driving_License  Region_Code  Previously_Insured  \\\n",
       "0      -0.890089                1         11.0                   1   \n",
       "1       0.079795                1         28.0                   0   \n",
       "2       0.532408                1         28.0                   0   \n",
       "3      -0.954748                1         27.0                   1   \n",
       "4      -0.760771                1         28.0                   1   \n",
       "...          ...              ...          ...                 ...   \n",
       "127032 -0.825430                1         37.0                   1   \n",
       "127033 -0.049523                1         28.0                   0   \n",
       "127034 -1.148725                1         46.0                   1   \n",
       "127035  2.084224                1         28.0                   1   \n",
       "127036  0.144454                1         29.0                   1   \n",
       "\n",
       "        Annual_Premium  Policy_Sales_Channel   Vintage  Gender_Female  \\\n",
       "0             0.310492                 152.0 -1.211054              0   \n",
       "1             0.191048                   7.0 -0.517782              0   \n",
       "2             0.562126                 124.0  0.534079              0   \n",
       "3             0.403143                 152.0  0.390643              0   \n",
       "4             1.686159                 152.0  1.705469              0   \n",
       "...                ...                   ...       ...            ...   \n",
       "127032        0.020204                 152.0 -1.175195              1   \n",
       "127033       -0.107679                 122.0  0.127678              1   \n",
       "127034       -0.042646                 152.0 -0.960042              0   \n",
       "127035        1.909113                  26.0  1.322974              0   \n",
       "127036       -0.153296                 124.0  0.916574              0   \n",
       "\n",
       "        Vehicle_Damage_Yes  Vehicle_Age_1-2 Year  Vehicle_Age_< 1 Year  \\\n",
       "0                        0                     0                     1   \n",
       "1                        1                     1                     0   \n",
       "2                        1                     1                     0   \n",
       "3                        1                     0                     1   \n",
       "4                        0                     0                     1   \n",
       "...                    ...                   ...                   ...   \n",
       "127032                   0                     0                     1   \n",
       "127033                   1                     1                     0   \n",
       "127034                   0                     0                     1   \n",
       "127035                   0                     1                     0   \n",
       "127036                   0                     1                     0   \n",
       "\n",
       "        Vehicle_Age_> 2 Years  \n",
       "0                           0  \n",
       "1                           0  \n",
       "2                           0  \n",
       "3                           0  \n",
       "4                           0  \n",
       "...                       ...  \n",
       "127032                      0  \n",
       "127033                      0  \n",
       "127034                      0  \n",
       "127035                      0  \n",
       "127036                      0  \n",
       "\n",
       "[127037 rows x 12 columns]"
      ]
     },
     "execution_count": 34,
     "metadata": {},
     "output_type": "execute_result"
    }
   ],
   "source": [
    "df1"
   ]
  },
  {
   "cell_type": "markdown",
   "metadata": {},
   "source": [
    "## Dataset array"
   ]
  },
  {
   "cell_type": "code",
   "execution_count": 35,
   "metadata": {},
   "outputs": [],
   "source": [
    "X1=np.array(df1)"
   ]
  },
  {
   "cell_type": "markdown",
   "metadata": {},
   "source": [
    "# Neural network prediction"
   ]
  },
  {
   "cell_type": "code",
   "execution_count": 36,
   "metadata": {},
   "outputs": [],
   "source": [
    "prediction_neural=model.predict(X1)"
   ]
  },
  {
   "cell_type": "code",
   "execution_count": 37,
   "metadata": {},
   "outputs": [
    {
     "name": "stdout",
     "output_type": "stream",
     "text": [
      "Counter({0: 77708, 1: 49329})\n"
     ]
    },
    {
     "data": {
      "image/png": "[encoded data removed]",
      "text/plain": [
       "<Figure size 432x288 with 1 Axes>"
      ]
     },
     "metadata": {
      "needs_background": "light"
     },
     "output_type": "display_data"
    }
   ],
   "source": [
    "lista_predicciones=[np.argmax(i) for i in prediction_neural]\n",
    "print(Counter(lista_predicciones))\n",
    "sns.countplot(lista_predicciones)\n",
    "plt.show()"
   ]
  },
  {
   "cell_type": "markdown",
   "metadata": {},
   "source": [
    "# Random Forest prediction"
   ]
  },
  {
   "cell_type": "code",
   "execution_count": 38,
   "metadata": {},
   "outputs": [
    {
     "data": {
      "text/plain": [
       "array([0, 1, 1, ..., 0, 0, 0])"
      ]
     },
     "execution_count": 38,
     "metadata": {},
     "output_type": "execute_result"
    }
   ],
   "source": [
    "yhat1=clasificador.predict(X1)\n",
    "yhat1"
   ]
  },
  {
   "cell_type": "code",
   "execution_count": 39,
   "metadata": {},
   "outputs": [
    {
     "name": "stdout",
     "output_type": "stream",
     "text": [
      "Counter({0: 84855, 1: 42182})\n"
     ]
    },
    {
     "data": {
      "image/png": "[encoded data removed]",
      "text/plain": [
       "<Figure size 432x288 with 1 Axes>"
      ]
     },
     "metadata": {
      "needs_background": "light"
     },
     "output_type": "display_data"
    }
   ],
   "source": [
    "sns.countplot(yhat1)\n",
    "print(Counter(yhat1))\n",
    "plt.show()"
   ]
  }
 ],
 "metadata": {
  "kernelspec": {
   "display_name": "Python 3",
   "language": "python",
   "name": "python3"
  },
  "language_info": {
   "codemirror_mode": {
    "name": "ipython",
    "version": 3
   },
   "file_extension": ".py",
   "mimetype": "text/x-python",
   "name": "python",
   "nbconvert_exporter": "python",
   "pygments_lexer": "ipython3",
   "version": "3.7.6"
  }
 },
 "nbformat": 4,
 "nbformat_minor": 4
}
